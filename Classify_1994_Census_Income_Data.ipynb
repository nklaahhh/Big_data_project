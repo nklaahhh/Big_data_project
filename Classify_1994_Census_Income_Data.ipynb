{
  "cells": [
    {
      "cell_type": "markdown",
      "id": "45bedce3",
      "metadata": {
        "id": "45bedce3"
      },
      "source": [
        "# Classify 1994 Census Income Data"
      ]
    },
    {
      "cell_type": "markdown",
      "id": "7a65dd66",
      "metadata": {
        "id": "7a65dd66"
      },
      "source": [
        " **Starting a spark session**"
      ]
    },
    {
      "cell_type": "code",
      "execution_count": 1,
      "id": "b4b3246a",
      "metadata": {
        "id": "b4b3246a"
      },
      "outputs": [],
      "source": [
        "from pyspark.sql import SparkSession"
      ]
    },
    {
      "cell_type": "code",
      "execution_count": 2,
      "id": "b2b2fead",
      "metadata": {
        "id": "b2b2fead"
      },
      "outputs": [],
      "source": [
        "spark=SparkSession.builder.appName('Classify 1994 Census Income Data').getOrCreate()"
      ]
    },
    {
      "cell_type": "code",
      "execution_count": 3,
      "id": "95ba6300",
      "metadata": {
        "colab": {
          "base_uri": "https://localhost:8080/",
          "height": 219
        },
        "id": "95ba6300",
        "outputId": "4137fecb-9805-47f8-fcb8-eef543b77d4e"
      },
      "outputs": [
        {
          "output_type": "execute_result",
          "data": {
            "text/plain": [
              "<pyspark.sql.session.SparkSession at 0x7bcb842edf30>"
            ],
            "text/html": [
              "\n",
              "            <div>\n",
              "                <p><b>SparkSession - in-memory</b></p>\n",
              "                \n",
              "        <div>\n",
              "            <p><b>SparkContext</b></p>\n",
              "\n",
              "            <p><a href=\"http://833bb1e12c98:4040\">Spark UI</a></p>\n",
              "\n",
              "            <dl>\n",
              "              <dt>Version</dt>\n",
              "                <dd><code>v3.5.3</code></dd>\n",
              "              <dt>Master</dt>\n",
              "                <dd><code>local[*]</code></dd>\n",
              "              <dt>AppName</dt>\n",
              "                <dd><code>Classify 1994 Census Income Data</code></dd>\n",
              "            </dl>\n",
              "        </div>\n",
              "        \n",
              "            </div>\n",
              "        "
            ]
          },
          "metadata": {},
          "execution_count": 3
        }
      ],
      "source": [
        "spark"
      ]
    },
    {
      "cell_type": "markdown",
      "id": "decd0ab5",
      "metadata": {
        "id": "decd0ab5"
      },
      "source": [
        "**Loading the dataset**"
      ]
    },
    {
      "cell_type": "code",
      "execution_count": 5,
      "id": "fe099b30",
      "metadata": {
        "id": "fe099b30"
      },
      "outputs": [],
      "source": [
        "data=spark.read.csv('adult.csv')"
      ]
    },
    {
      "cell_type": "markdown",
      "id": "b0c3b602",
      "metadata": {
        "id": "b0c3b602"
      },
      "source": [
        "**Reading the dataset**"
      ]
    },
    {
      "cell_type": "code",
      "execution_count": 10,
      "id": "5cd5efe0",
      "metadata": {
        "id": "5cd5efe0"
      },
      "outputs": [],
      "source": [
        "data=spark.read.option('header','true').csv('adult.csv',inferSchema=True)"
      ]
    },
    {
      "cell_type": "code",
      "execution_count": 11,
      "id": "806bbaa8",
      "metadata": {
        "colab": {
          "base_uri": "https://localhost:8080/"
        },
        "id": "806bbaa8",
        "outputId": "7d88fab5-7685-4cd9-9a37-54c281f95935"
      },
      "outputs": [
        {
          "output_type": "stream",
          "name": "stdout",
          "text": [
            "+---+----------------+------+------------+-------------+--------------+-----------------+--------------+-----+------+------------+------------+--------------+--------------+------+\n",
            "|age|       workclass|fnlwgt|   education|education_num|marital_status|       occupation|  relationship| race|   sex|capital_gain|capital_loss|hours_per_week|native_country|income|\n",
            "+---+----------------+------+------------+-------------+--------------+-----------------+--------------+-----+------+------------+------------+--------------+--------------+------+\n",
            "| 90|            NULL| 77053|     HS-grad|            9|       Widowed|             NULL| Not-in-family|White|Female|           0|        4356|            40| United-States| <=50K|\n",
            "| 82|         Private|132870|     HS-grad|            9|       Widowed|  Exec-managerial| Not-in-family|White|Female|           0|        4356|            18| United-States| <=50K|\n",
            "| 66|            NULL|186061|Some-college|           10|       Widowed|             NULL|     Unmarried|Black|Female|           0|        4356|            40| United-States| <=50K|\n",
            "| 54|         Private|140359|     7th-8th|            4|      Divorced|Machine-op-inspct|     Unmarried|White|Female|           0|        3900|            40| United-States| <=50K|\n",
            "| 41|         Private|264663|Some-college|           10|     Separated|   Prof-specialty|     Own-child|White|Female|           0|        3900|            40| United-States| <=50K|\n",
            "| 34|         Private|216864|     HS-grad|            9|      Divorced|    Other-service|     Unmarried|White|Female|           0|        3770|            45| United-States| <=50K|\n",
            "| 38|         Private|150601|        10th|            6|     Separated|     Adm-clerical|     Unmarried|White|  Male|           0|        3770|            40| United-States| <=50K|\n",
            "| 74|       State-gov| 88638|   Doctorate|           16| Never-married|   Prof-specialty|Other-relative|White|Female|           0|        3683|            20| United-States|  >50K|\n",
            "| 68|     Federal-gov|422013|     HS-grad|            9|      Divorced|   Prof-specialty| Not-in-family|White|Female|           0|        3683|            40| United-States| <=50K|\n",
            "| 41|         Private| 70037|Some-college|           10| Never-married|     Craft-repair|     Unmarried|White|  Male|           0|        3004|            60|          NULL|  >50K|\n",
            "| 45|         Private|172274|   Doctorate|           16|      Divorced|   Prof-specialty|     Unmarried|Black|Female|           0|        3004|            35| United-States|  >50K|\n",
            "| 38|Self-emp-not-inc|164526| Prof-school|           15| Never-married|   Prof-specialty| Not-in-family|White|  Male|           0|        2824|            45| United-States|  >50K|\n",
            "| 52|         Private|129177|   Bachelors|           13|       Widowed|    Other-service| Not-in-family|White|Female|           0|        2824|            20| United-States|  >50K|\n",
            "| 32|         Private|136204|     Masters|           14|     Separated|  Exec-managerial| Not-in-family|White|  Male|           0|        2824|            55| United-States|  >50K|\n",
            "| 51|            NULL|172175|   Doctorate|           16| Never-married|             NULL| Not-in-family|White|  Male|           0|        2824|            40| United-States|  >50K|\n",
            "| 46|         Private| 45363| Prof-school|           15|      Divorced|   Prof-specialty| Not-in-family|White|  Male|           0|        2824|            40| United-States|  >50K|\n",
            "| 45|         Private|172822|        11th|            7|      Divorced| Transport-moving| Not-in-family|White|  Male|           0|        2824|            76| United-States|  >50K|\n",
            "| 57|         Private|317847|     Masters|           14|      Divorced|  Exec-managerial| Not-in-family|White|  Male|           0|        2824|            50| United-States|  >50K|\n",
            "| 22|         Private|119592|  Assoc-acdm|           12| Never-married|Handlers-cleaners| Not-in-family|Black|  Male|           0|        2824|            40|          NULL|  >50K|\n",
            "| 34|         Private|203034|   Bachelors|           13|     Separated|            Sales| Not-in-family|White|  Male|           0|        2824|            50| United-States|  >50K|\n",
            "+---+----------------+------+------------+-------------+--------------+-----------------+--------------+-----+------+------------+------------+--------------+--------------+------+\n",
            "only showing top 20 rows\n",
            "\n"
          ]
        }
      ],
      "source": [
        "data.show()"
      ]
    },
    {
      "cell_type": "markdown",
      "id": "2648b9b6",
      "metadata": {
        "id": "2648b9b6"
      },
      "source": [
        "**Checking the number of null values**"
      ]
    },
    {
      "cell_type": "code",
      "execution_count": 12,
      "id": "f1173200",
      "metadata": {
        "colab": {
          "base_uri": "https://localhost:8080/",
          "height": 101
        },
        "id": "f1173200",
        "outputId": "7c71ff50-7aee-470e-fe9e-611074cb799e"
      },
      "outputs": [
        {
          "output_type": "execute_result",
          "data": {
            "text/plain": [
              "   age  workclass  fnlwgt  education  education_num  marital_status  \\\n",
              "0    0       1836       0          0              0               0   \n",
              "\n",
              "   occupation  relationship  race  sex  capital_gain  capital_loss  \\\n",
              "0        1843             0     0    0             0             0   \n",
              "\n",
              "   hours_per_week  native_country  income  \n",
              "0               0             583       0  "
            ],
            "text/html": [
              "\n",
              "  <div id=\"df-833df54b-6978-4537-a7f2-71853cfd5b53\" class=\"colab-df-container\">\n",
              "    <div>\n",
              "<style scoped>\n",
              "    .dataframe tbody tr th:only-of-type {\n",
              "        vertical-align: middle;\n",
              "    }\n",
              "\n",
              "    .dataframe tbody tr th {\n",
              "        vertical-align: top;\n",
              "    }\n",
              "\n",
              "    .dataframe thead th {\n",
              "        text-align: right;\n",
              "    }\n",
              "</style>\n",
              "<table border=\"1\" class=\"dataframe\">\n",
              "  <thead>\n",
              "    <tr style=\"text-align: right;\">\n",
              "      <th></th>\n",
              "      <th>age</th>\n",
              "      <th>workclass</th>\n",
              "      <th>fnlwgt</th>\n",
              "      <th>education</th>\n",
              "      <th>education_num</th>\n",
              "      <th>marital_status</th>\n",
              "      <th>occupation</th>\n",
              "      <th>relationship</th>\n",
              "      <th>race</th>\n",
              "      <th>sex</th>\n",
              "      <th>capital_gain</th>\n",
              "      <th>capital_loss</th>\n",
              "      <th>hours_per_week</th>\n",
              "      <th>native_country</th>\n",
              "      <th>income</th>\n",
              "    </tr>\n",
              "  </thead>\n",
              "  <tbody>\n",
              "    <tr>\n",
              "      <th>0</th>\n",
              "      <td>0</td>\n",
              "      <td>1836</td>\n",
              "      <td>0</td>\n",
              "      <td>0</td>\n",
              "      <td>0</td>\n",
              "      <td>0</td>\n",
              "      <td>1843</td>\n",
              "      <td>0</td>\n",
              "      <td>0</td>\n",
              "      <td>0</td>\n",
              "      <td>0</td>\n",
              "      <td>0</td>\n",
              "      <td>0</td>\n",
              "      <td>583</td>\n",
              "      <td>0</td>\n",
              "    </tr>\n",
              "  </tbody>\n",
              "</table>\n",
              "</div>\n",
              "    <div class=\"colab-df-buttons\">\n",
              "\n",
              "  <div class=\"colab-df-container\">\n",
              "    <button class=\"colab-df-convert\" onclick=\"convertToInteractive('df-833df54b-6978-4537-a7f2-71853cfd5b53')\"\n",
              "            title=\"Convert this dataframe to an interactive table.\"\n",
              "            style=\"display:none;\">\n",
              "\n",
              "  <svg xmlns=\"http://www.w3.org/2000/svg\" height=\"24px\" viewBox=\"0 -960 960 960\">\n",
              "    <path d=\"M120-120v-720h720v720H120Zm60-500h600v-160H180v160Zm220 220h160v-160H400v160Zm0 220h160v-160H400v160ZM180-400h160v-160H180v160Zm440 0h160v-160H620v160ZM180-180h160v-160H180v160Zm440 0h160v-160H620v160Z\"/>\n",
              "  </svg>\n",
              "    </button>\n",
              "\n",
              "  <style>\n",
              "    .colab-df-container {\n",
              "      display:flex;\n",
              "      gap: 12px;\n",
              "    }\n",
              "\n",
              "    .colab-df-convert {\n",
              "      background-color: #E8F0FE;\n",
              "      border: none;\n",
              "      border-radius: 50%;\n",
              "      cursor: pointer;\n",
              "      display: none;\n",
              "      fill: #1967D2;\n",
              "      height: 32px;\n",
              "      padding: 0 0 0 0;\n",
              "      width: 32px;\n",
              "    }\n",
              "\n",
              "    .colab-df-convert:hover {\n",
              "      background-color: #E2EBFA;\n",
              "      box-shadow: 0px 1px 2px rgba(60, 64, 67, 0.3), 0px 1px 3px 1px rgba(60, 64, 67, 0.15);\n",
              "      fill: #174EA6;\n",
              "    }\n",
              "\n",
              "    .colab-df-buttons div {\n",
              "      margin-bottom: 4px;\n",
              "    }\n",
              "\n",
              "    [theme=dark] .colab-df-convert {\n",
              "      background-color: #3B4455;\n",
              "      fill: #D2E3FC;\n",
              "    }\n",
              "\n",
              "    [theme=dark] .colab-df-convert:hover {\n",
              "      background-color: #434B5C;\n",
              "      box-shadow: 0px 1px 3px 1px rgba(0, 0, 0, 0.15);\n",
              "      filter: drop-shadow(0px 1px 2px rgba(0, 0, 0, 0.3));\n",
              "      fill: #FFFFFF;\n",
              "    }\n",
              "  </style>\n",
              "\n",
              "    <script>\n",
              "      const buttonEl =\n",
              "        document.querySelector('#df-833df54b-6978-4537-a7f2-71853cfd5b53 button.colab-df-convert');\n",
              "      buttonEl.style.display =\n",
              "        google.colab.kernel.accessAllowed ? 'block' : 'none';\n",
              "\n",
              "      async function convertToInteractive(key) {\n",
              "        const element = document.querySelector('#df-833df54b-6978-4537-a7f2-71853cfd5b53');\n",
              "        const dataTable =\n",
              "          await google.colab.kernel.invokeFunction('convertToInteractive',\n",
              "                                                    [key], {});\n",
              "        if (!dataTable) return;\n",
              "\n",
              "        const docLinkHtml = 'Like what you see? Visit the ' +\n",
              "          '<a target=\"_blank\" href=https://colab.research.google.com/notebooks/data_table.ipynb>data table notebook</a>'\n",
              "          + ' to learn more about interactive tables.';\n",
              "        element.innerHTML = '';\n",
              "        dataTable['output_type'] = 'display_data';\n",
              "        await google.colab.output.renderOutput(dataTable, element);\n",
              "        const docLink = document.createElement('div');\n",
              "        docLink.innerHTML = docLinkHtml;\n",
              "        element.appendChild(docLink);\n",
              "      }\n",
              "    </script>\n",
              "  </div>\n",
              "\n",
              "\n",
              "    </div>\n",
              "  </div>\n"
            ],
            "application/vnd.google.colaboratory.intrinsic+json": {
              "type": "dataframe",
              "summary": "{\n  \"name\": \"data\",\n  \"rows\": 1,\n  \"fields\": [\n    {\n      \"column\": \"age\",\n      \"properties\": {\n        \"dtype\": \"number\",\n        \"std\": null,\n        \"min\": 0,\n        \"max\": 0,\n        \"num_unique_values\": 1,\n        \"samples\": [\n          0\n        ],\n        \"semantic_type\": \"\",\n        \"description\": \"\"\n      }\n    },\n    {\n      \"column\": \"workclass\",\n      \"properties\": {\n        \"dtype\": \"number\",\n        \"std\": null,\n        \"min\": 1836,\n        \"max\": 1836,\n        \"num_unique_values\": 1,\n        \"samples\": [\n          1836\n        ],\n        \"semantic_type\": \"\",\n        \"description\": \"\"\n      }\n    },\n    {\n      \"column\": \"fnlwgt\",\n      \"properties\": {\n        \"dtype\": \"number\",\n        \"std\": null,\n        \"min\": 0,\n        \"max\": 0,\n        \"num_unique_values\": 1,\n        \"samples\": [\n          0\n        ],\n        \"semantic_type\": \"\",\n        \"description\": \"\"\n      }\n    },\n    {\n      \"column\": \"education\",\n      \"properties\": {\n        \"dtype\": \"number\",\n        \"std\": null,\n        \"min\": 0,\n        \"max\": 0,\n        \"num_unique_values\": 1,\n        \"samples\": [\n          0\n        ],\n        \"semantic_type\": \"\",\n        \"description\": \"\"\n      }\n    },\n    {\n      \"column\": \"education_num\",\n      \"properties\": {\n        \"dtype\": \"number\",\n        \"std\": null,\n        \"min\": 0,\n        \"max\": 0,\n        \"num_unique_values\": 1,\n        \"samples\": [\n          0\n        ],\n        \"semantic_type\": \"\",\n        \"description\": \"\"\n      }\n    },\n    {\n      \"column\": \"marital_status\",\n      \"properties\": {\n        \"dtype\": \"number\",\n        \"std\": null,\n        \"min\": 0,\n        \"max\": 0,\n        \"num_unique_values\": 1,\n        \"samples\": [\n          0\n        ],\n        \"semantic_type\": \"\",\n        \"description\": \"\"\n      }\n    },\n    {\n      \"column\": \"occupation\",\n      \"properties\": {\n        \"dtype\": \"number\",\n        \"std\": null,\n        \"min\": 1843,\n        \"max\": 1843,\n        \"num_unique_values\": 1,\n        \"samples\": [\n          1843\n        ],\n        \"semantic_type\": \"\",\n        \"description\": \"\"\n      }\n    },\n    {\n      \"column\": \"relationship\",\n      \"properties\": {\n        \"dtype\": \"number\",\n        \"std\": null,\n        \"min\": 0,\n        \"max\": 0,\n        \"num_unique_values\": 1,\n        \"samples\": [\n          0\n        ],\n        \"semantic_type\": \"\",\n        \"description\": \"\"\n      }\n    },\n    {\n      \"column\": \"race\",\n      \"properties\": {\n        \"dtype\": \"number\",\n        \"std\": null,\n        \"min\": 0,\n        \"max\": 0,\n        \"num_unique_values\": 1,\n        \"samples\": [\n          0\n        ],\n        \"semantic_type\": \"\",\n        \"description\": \"\"\n      }\n    },\n    {\n      \"column\": \"sex\",\n      \"properties\": {\n        \"dtype\": \"number\",\n        \"std\": null,\n        \"min\": 0,\n        \"max\": 0,\n        \"num_unique_values\": 1,\n        \"samples\": [\n          0\n        ],\n        \"semantic_type\": \"\",\n        \"description\": \"\"\n      }\n    },\n    {\n      \"column\": \"capital_gain\",\n      \"properties\": {\n        \"dtype\": \"number\",\n        \"std\": null,\n        \"min\": 0,\n        \"max\": 0,\n        \"num_unique_values\": 1,\n        \"samples\": [\n          0\n        ],\n        \"semantic_type\": \"\",\n        \"description\": \"\"\n      }\n    },\n    {\n      \"column\": \"capital_loss\",\n      \"properties\": {\n        \"dtype\": \"number\",\n        \"std\": null,\n        \"min\": 0,\n        \"max\": 0,\n        \"num_unique_values\": 1,\n        \"samples\": [\n          0\n        ],\n        \"semantic_type\": \"\",\n        \"description\": \"\"\n      }\n    },\n    {\n      \"column\": \"hours_per_week\",\n      \"properties\": {\n        \"dtype\": \"number\",\n        \"std\": null,\n        \"min\": 0,\n        \"max\": 0,\n        \"num_unique_values\": 1,\n        \"samples\": [\n          0\n        ],\n        \"semantic_type\": \"\",\n        \"description\": \"\"\n      }\n    },\n    {\n      \"column\": \"native_country\",\n      \"properties\": {\n        \"dtype\": \"number\",\n        \"std\": null,\n        \"min\": 583,\n        \"max\": 583,\n        \"num_unique_values\": 1,\n        \"samples\": [\n          583\n        ],\n        \"semantic_type\": \"\",\n        \"description\": \"\"\n      }\n    },\n    {\n      \"column\": \"income\",\n      \"properties\": {\n        \"dtype\": \"number\",\n        \"std\": null,\n        \"min\": 0,\n        \"max\": 0,\n        \"num_unique_values\": 1,\n        \"samples\": [\n          0\n        ],\n        \"semantic_type\": \"\",\n        \"description\": \"\"\n      }\n    }\n  ]\n}"
            }
          },
          "metadata": {},
          "execution_count": 12
        }
      ],
      "source": [
        "from pyspark.sql.functions import isnan, when, count, col\n",
        "data.select([count(when(col(c).isNull(), c)).alias(c) for c in data.columns]).toPandas()"
      ]
    },
    {
      "cell_type": "markdown",
      "id": "cdebde27",
      "metadata": {
        "id": "cdebde27"
      },
      "source": [
        "**Cleaning the data from the dataset**"
      ]
    },
    {
      "cell_type": "code",
      "execution_count": 13,
      "id": "9bee55a7",
      "metadata": {
        "id": "9bee55a7"
      },
      "outputs": [],
      "source": [
        "# Dropping all the null values in the data set.\n",
        "cleaned_data=data.na.drop()"
      ]
    },
    {
      "cell_type": "markdown",
      "id": "03e75cc3",
      "metadata": {
        "id": "03e75cc3"
      },
      "source": [
        "**Encoding the categorical data into numerical data**"
      ]
    },
    {
      "cell_type": "code",
      "execution_count": 14,
      "id": "5b08c24b",
      "metadata": {
        "id": "5b08c24b"
      },
      "outputs": [],
      "source": [
        "from pyspark.ml.feature import VectorAssembler,StringIndexer"
      ]
    },
    {
      "cell_type": "code",
      "execution_count": 15,
      "id": "d95eb9bf",
      "metadata": {
        "id": "d95eb9bf"
      },
      "outputs": [],
      "source": [
        "workclassEncoder = StringIndexer(inputCol='workclass',outputCol='workclass_Encoded').fit(cleaned_data)\n",
        "educationEncoder = StringIndexer(inputCol='education',outputCol='education_Encoded').fit(cleaned_data)\n",
        "marital_statusEncoder = StringIndexer(inputCol='marital_status',outputCol='marital_status_Encoded').fit(cleaned_data)\n",
        "occupationEncoder = StringIndexer(inputCol='occupation',outputCol='occupation_Encoded').fit(cleaned_data)\n",
        "relationshipEncoder = StringIndexer(inputCol='relationship',outputCol='relationship_Encoded').fit(cleaned_data)\n",
        "raceEncoder = StringIndexer(inputCol='race',outputCol='race_Encoded').fit(cleaned_data)\n",
        "sexEncoder = StringIndexer(inputCol='sex',outputCol='sex_Encoded').fit(cleaned_data)\n",
        "native_countryEncoder = StringIndexer(inputCol='native_country',outputCol='native_country_Encoded').fit(cleaned_data)\n",
        "incomeEncoder = StringIndexer(inputCol='income',outputCol='income_Encoded').fit(cleaned_data)"
      ]
    },
    {
      "cell_type": "code",
      "execution_count": 16,
      "id": "b8711d04",
      "metadata": {
        "id": "b8711d04"
      },
      "outputs": [],
      "source": [
        "cleaned_data=workclassEncoder.transform(cleaned_data)\n",
        "cleaned_data=educationEncoder.transform(cleaned_data)\n",
        "cleaned_data=marital_statusEncoder.transform(cleaned_data)\n",
        "cleaned_data=occupationEncoder.transform(cleaned_data)\n",
        "cleaned_data=relationshipEncoder.transform(cleaned_data)\n",
        "cleaned_data=raceEncoder.transform(cleaned_data)\n",
        "cleaned_data=sexEncoder.transform(cleaned_data)\n",
        "cleaned_data=native_countryEncoder.transform(cleaned_data)\n",
        "cleaned_data=incomeEncoder.transform(cleaned_data)"
      ]
    },
    {
      "cell_type": "code",
      "execution_count": 17,
      "id": "838cf961",
      "metadata": {
        "colab": {
          "base_uri": "https://localhost:8080/"
        },
        "id": "838cf961",
        "outputId": "1e235d53-a2eb-472a-d78e-b00cf5d4a5d4"
      },
      "outputs": [
        {
          "output_type": "execute_result",
          "data": {
            "text/plain": [
              "['age',\n",
              " 'workclass',\n",
              " 'fnlwgt',\n",
              " 'education',\n",
              " 'education_num',\n",
              " 'marital_status',\n",
              " 'occupation',\n",
              " 'relationship',\n",
              " 'race',\n",
              " 'sex',\n",
              " 'capital_gain',\n",
              " 'capital_loss',\n",
              " 'hours_per_week',\n",
              " 'native_country',\n",
              " 'income',\n",
              " 'workclass_Encoded',\n",
              " 'education_Encoded',\n",
              " 'marital_status_Encoded',\n",
              " 'occupation_Encoded',\n",
              " 'relationship_Encoded',\n",
              " 'race_Encoded',\n",
              " 'sex_Encoded',\n",
              " 'native_country_Encoded',\n",
              " 'income_Encoded']"
            ]
          },
          "metadata": {},
          "execution_count": 17
        }
      ],
      "source": [
        "cleaned_data.columns"
      ]
    },
    {
      "cell_type": "markdown",
      "id": "be6821ef",
      "metadata": {
        "id": "be6821ef"
      },
      "source": [
        "**Selecting all the numerical variables**"
      ]
    },
    {
      "cell_type": "code",
      "execution_count": 18,
      "id": "eae7225e",
      "metadata": {
        "id": "eae7225e"
      },
      "outputs": [],
      "source": [
        "cleaned_data=cleaned_data.select('age',\n",
        " 'fnlwgt',\n",
        " 'education_num',\n",
        " 'capital_gain',\n",
        " 'capital_loss',\n",
        " 'hours_per_week',\n",
        " 'workclass_Encoded',\n",
        " 'education_Encoded',\n",
        " 'marital_status_Encoded',\n",
        " 'occupation_Encoded',\n",
        " 'relationship_Encoded',\n",
        " 'race_Encoded',\n",
        " 'sex_Encoded',\n",
        " 'native_country_Encoded',\n",
        " 'income_Encoded')"
      ]
    },
    {
      "cell_type": "code",
      "execution_count": 19,
      "id": "36416250",
      "metadata": {
        "colab": {
          "base_uri": "https://localhost:8080/"
        },
        "id": "36416250",
        "outputId": "9a4ca070-b685-4a59-93d2-8ba40b3bf71f"
      },
      "outputs": [
        {
          "output_type": "stream",
          "name": "stdout",
          "text": [
            "+---+------+-------------+------------+------------+--------------+-----------------+-----------------+----------------------+------------------+--------------------+------------+-----------+----------------------+--------------+\n",
            "|age|fnlwgt|education_num|capital_gain|capital_loss|hours_per_week|workclass_Encoded|education_Encoded|marital_status_Encoded|occupation_Encoded|relationship_Encoded|race_Encoded|sex_Encoded|native_country_Encoded|income_Encoded|\n",
            "+---+------+-------------+------------+------------+--------------+-----------------+-----------------+----------------------+------------------+--------------------+------------+-----------+----------------------+--------------+\n",
            "| 82|132870|            9|           0|        4356|            18|              0.0|              0.0|                   4.0|               2.0|                 1.0|         0.0|        1.0|                   0.0|           0.0|\n",
            "| 54|140359|            4|           0|        3900|            40|              0.0|              8.0|                   2.0|               6.0|                 3.0|         0.0|        1.0|                   0.0|           0.0|\n",
            "| 41|264663|           10|           0|        3900|            40|              0.0|              1.0|                   3.0|               0.0|                 2.0|         0.0|        1.0|                   0.0|           0.0|\n",
            "| 34|216864|            9|           0|        3770|            45|              0.0|              0.0|                   2.0|               5.0|                 3.0|         0.0|        1.0|                   0.0|           0.0|\n",
            "| 38|150601|            6|           0|        3770|            40|              0.0|              7.0|                   3.0|               3.0|                 3.0|         0.0|        0.0|                   0.0|           0.0|\n",
            "| 74| 88638|           16|           0|        3683|            20|              3.0|             12.0|                   1.0|               0.0|                 5.0|         0.0|        1.0|                   0.0|           1.0|\n",
            "| 68|422013|            9|           0|        3683|            40|              5.0|              0.0|                   2.0|               0.0|                 1.0|         0.0|        1.0|                   0.0|           0.0|\n",
            "| 45|172274|           16|           0|        3004|            35|              0.0|             12.0|                   2.0|               0.0|                 3.0|         1.0|        1.0|                   0.0|           1.0|\n",
            "| 38|164526|           15|           0|        2824|            45|              1.0|              9.0|                   1.0|               0.0|                 1.0|         0.0|        0.0|                   0.0|           1.0|\n",
            "| 52|129177|           13|           0|        2824|            20|              0.0|              2.0|                   4.0|               5.0|                 1.0|         0.0|        1.0|                   0.0|           1.0|\n",
            "| 32|136204|           14|           0|        2824|            55|              0.0|              3.0|                   3.0|               2.0|                 1.0|         0.0|        0.0|                   0.0|           1.0|\n",
            "| 46| 45363|           15|           0|        2824|            40|              0.0|              9.0|                   2.0|               0.0|                 1.0|         0.0|        0.0|                   0.0|           1.0|\n",
            "| 45|172822|            7|           0|        2824|            76|              0.0|              5.0|                   2.0|               7.0|                 1.0|         0.0|        0.0|                   0.0|           1.0|\n",
            "| 57|317847|           14|           0|        2824|            50|              0.0|              3.0|                   2.0|               2.0|                 1.0|         0.0|        0.0|                   0.0|           1.0|\n",
            "| 34|203034|           13|           0|        2824|            50|              0.0|              2.0|                   3.0|               4.0|                 1.0|         0.0|        0.0|                   0.0|           1.0|\n",
            "| 37|188774|           13|           0|        2824|            40|              0.0|              2.0|                   1.0|               2.0|                 1.0|         0.0|        0.0|                   0.0|           1.0|\n",
            "| 29| 77009|            7|           0|        2754|            42|              0.0|              5.0|                   3.0|               4.0|                 1.0|         0.0|        1.0|                   0.0|           0.0|\n",
            "| 61| 29059|            9|           0|        2754|            25|              0.0|              0.0|                   2.0|               4.0|                 3.0|         0.0|        1.0|                   0.0|           0.0|\n",
            "| 51|153870|           10|           0|        2603|            40|              0.0|              1.0|                   0.0|               7.0|                 0.0|         0.0|        0.0|                   0.0|           0.0|\n",
            "| 21| 34310|           11|           0|        2603|            40|              0.0|              4.0|                   0.0|               1.0|                 0.0|         0.0|        0.0|                   0.0|           0.0|\n",
            "+---+------+-------------+------------+------------+--------------+-----------------+-----------------+----------------------+------------------+--------------------+------------+-----------+----------------------+--------------+\n",
            "only showing top 20 rows\n",
            "\n"
          ]
        }
      ],
      "source": [
        "cleaned_data.show()"
      ]
    },
    {
      "cell_type": "markdown",
      "id": "7e6d3353",
      "metadata": {
        "id": "7e6d3353"
      },
      "source": [
        "**Selecting all the features and vectorising them using VectorAssembler**"
      ]
    },
    {
      "cell_type": "code",
      "execution_count": 20,
      "id": "474b68f1",
      "metadata": {
        "id": "474b68f1"
      },
      "outputs": [],
      "source": [
        "required_features = ['age',\n",
        " 'fnlwgt',\n",
        " 'education_num',\n",
        " 'capital_gain',\n",
        " 'capital_loss',\n",
        " 'hours_per_week',\n",
        " 'workclass_Encoded',\n",
        " 'education_Encoded',\n",
        " 'marital_status_Encoded',\n",
        " 'occupation_Encoded',\n",
        " 'relationship_Encoded',\n",
        " 'race_Encoded',\n",
        " 'sex_Encoded',\n",
        " 'native_country_Encoded']"
      ]
    },
    {
      "cell_type": "code",
      "execution_count": 21,
      "id": "f8020a16",
      "metadata": {
        "colab": {
          "base_uri": "https://localhost:8080/"
        },
        "id": "f8020a16",
        "outputId": "00b32909-577d-42ba-f8c1-edaceb23305c"
      },
      "outputs": [
        {
          "output_type": "stream",
          "name": "stdout",
          "text": [
            "+---+------+-------------+------------+------------+--------------+-----------------+-----------------+----------------------+------------------+--------------------+------------+-----------+----------------------+--------------+--------------------+\n",
            "|age|fnlwgt|education_num|capital_gain|capital_loss|hours_per_week|workclass_Encoded|education_Encoded|marital_status_Encoded|occupation_Encoded|relationship_Encoded|race_Encoded|sex_Encoded|native_country_Encoded|income_Encoded|            features|\n",
            "+---+------+-------------+------------+------------+--------------+-----------------+-----------------+----------------------+------------------+--------------------+------------+-----------+----------------------+--------------+--------------------+\n",
            "| 82|132870|            9|           0|        4356|            18|              0.0|              0.0|                   4.0|               2.0|                 1.0|         0.0|        1.0|                   0.0|           0.0|[82.0,132870.0,9....|\n",
            "| 54|140359|            4|           0|        3900|            40|              0.0|              8.0|                   2.0|               6.0|                 3.0|         0.0|        1.0|                   0.0|           0.0|[54.0,140359.0,4....|\n",
            "| 41|264663|           10|           0|        3900|            40|              0.0|              1.0|                   3.0|               0.0|                 2.0|         0.0|        1.0|                   0.0|           0.0|[41.0,264663.0,10...|\n",
            "| 34|216864|            9|           0|        3770|            45|              0.0|              0.0|                   2.0|               5.0|                 3.0|         0.0|        1.0|                   0.0|           0.0|[34.0,216864.0,9....|\n",
            "| 38|150601|            6|           0|        3770|            40|              0.0|              7.0|                   3.0|               3.0|                 3.0|         0.0|        0.0|                   0.0|           0.0|[38.0,150601.0,6....|\n",
            "| 74| 88638|           16|           0|        3683|            20|              3.0|             12.0|                   1.0|               0.0|                 5.0|         0.0|        1.0|                   0.0|           1.0|[74.0,88638.0,16....|\n",
            "| 68|422013|            9|           0|        3683|            40|              5.0|              0.0|                   2.0|               0.0|                 1.0|         0.0|        1.0|                   0.0|           0.0|[68.0,422013.0,9....|\n",
            "| 45|172274|           16|           0|        3004|            35|              0.0|             12.0|                   2.0|               0.0|                 3.0|         1.0|        1.0|                   0.0|           1.0|[45.0,172274.0,16...|\n",
            "| 38|164526|           15|           0|        2824|            45|              1.0|              9.0|                   1.0|               0.0|                 1.0|         0.0|        0.0|                   0.0|           1.0|[38.0,164526.0,15...|\n",
            "| 52|129177|           13|           0|        2824|            20|              0.0|              2.0|                   4.0|               5.0|                 1.0|         0.0|        1.0|                   0.0|           1.0|[52.0,129177.0,13...|\n",
            "| 32|136204|           14|           0|        2824|            55|              0.0|              3.0|                   3.0|               2.0|                 1.0|         0.0|        0.0|                   0.0|           1.0|[32.0,136204.0,14...|\n",
            "| 46| 45363|           15|           0|        2824|            40|              0.0|              9.0|                   2.0|               0.0|                 1.0|         0.0|        0.0|                   0.0|           1.0|(14,[0,1,2,4,5,7,...|\n",
            "| 45|172822|            7|           0|        2824|            76|              0.0|              5.0|                   2.0|               7.0|                 1.0|         0.0|        0.0|                   0.0|           1.0|[45.0,172822.0,7....|\n",
            "| 57|317847|           14|           0|        2824|            50|              0.0|              3.0|                   2.0|               2.0|                 1.0|         0.0|        0.0|                   0.0|           1.0|[57.0,317847.0,14...|\n",
            "| 34|203034|           13|           0|        2824|            50|              0.0|              2.0|                   3.0|               4.0|                 1.0|         0.0|        0.0|                   0.0|           1.0|[34.0,203034.0,13...|\n",
            "| 37|188774|           13|           0|        2824|            40|              0.0|              2.0|                   1.0|               2.0|                 1.0|         0.0|        0.0|                   0.0|           1.0|[37.0,188774.0,13...|\n",
            "| 29| 77009|            7|           0|        2754|            42|              0.0|              5.0|                   3.0|               4.0|                 1.0|         0.0|        1.0|                   0.0|           0.0|[29.0,77009.0,7.0...|\n",
            "| 61| 29059|            9|           0|        2754|            25|              0.0|              0.0|                   2.0|               4.0|                 3.0|         0.0|        1.0|                   0.0|           0.0|[61.0,29059.0,9.0...|\n",
            "| 51|153870|           10|           0|        2603|            40|              0.0|              1.0|                   0.0|               7.0|                 0.0|         0.0|        0.0|                   0.0|           0.0|(14,[0,1,2,4,5,7,...|\n",
            "| 21| 34310|           11|           0|        2603|            40|              0.0|              4.0|                   0.0|               1.0|                 0.0|         0.0|        0.0|                   0.0|           0.0|(14,[0,1,2,4,5,7,...|\n",
            "+---+------+-------------+------------+------------+--------------+-----------------+-----------------+----------------------+------------------+--------------------+------------+-----------+----------------------+--------------+--------------------+\n",
            "only showing top 20 rows\n",
            "\n"
          ]
        }
      ],
      "source": [
        "vec_assembler = VectorAssembler(inputCols=required_features,outputCol='features')\n",
        "vec_df = vec_assembler.transform(cleaned_data)\n",
        "vec_df.show()"
      ]
    },
    {
      "cell_type": "markdown",
      "id": "2ad65363",
      "metadata": {
        "id": "2ad65363"
      },
      "source": [
        "**Spliting the data into test set and training set**"
      ]
    },
    {
      "cell_type": "code",
      "execution_count": 22,
      "id": "21df8e5d",
      "metadata": {
        "id": "21df8e5d"
      },
      "outputs": [],
      "source": [
        "x_train,x_test = vec_df.randomSplit([0.8,0.2])"
      ]
    },
    {
      "cell_type": "markdown",
      "id": "08f977bc",
      "metadata": {
        "id": "08f977bc"
      },
      "source": [
        "**Using a Logistic Regression model and fitting training set into it**"
      ]
    },
    {
      "cell_type": "code",
      "execution_count": 23,
      "id": "bd0cc7a4",
      "metadata": {
        "id": "bd0cc7a4"
      },
      "outputs": [],
      "source": [
        "from pyspark.ml.classification import LogisticRegression,DecisionTreeClassifier"
      ]
    },
    {
      "cell_type": "code",
      "execution_count": 24,
      "id": "dad52967",
      "metadata": {
        "id": "dad52967"
      },
      "outputs": [],
      "source": [
        " l=LogisticRegression(featuresCol='features',labelCol='income_Encoded')"
      ]
    },
    {
      "cell_type": "code",
      "execution_count": 25,
      "id": "e0691a0e",
      "metadata": {
        "id": "e0691a0e"
      },
      "outputs": [],
      "source": [
        "l_model = l.fit(x_train)"
      ]
    },
    {
      "cell_type": "code",
      "execution_count": 26,
      "id": "df3c7166",
      "metadata": {
        "id": "df3c7166"
      },
      "outputs": [],
      "source": [
        "y_pred = l_model.transform(x_test)"
      ]
    },
    {
      "cell_type": "code",
      "execution_count": 27,
      "id": "69b17044",
      "metadata": {
        "colab": {
          "base_uri": "https://localhost:8080/"
        },
        "id": "69b17044",
        "outputId": "b8d2a376-563b-4560-b457-5dacac87e2ee"
      },
      "outputs": [
        {
          "output_type": "stream",
          "name": "stdout",
          "text": [
            "+---+------+-------------+------------+------------+--------------+-----------------+-----------------+----------------------+------------------+--------------------+------------+-----------+----------------------+--------------+--------------------+--------------------+--------------------+----------+\n",
            "|age|fnlwgt|education_num|capital_gain|capital_loss|hours_per_week|workclass_Encoded|education_Encoded|marital_status_Encoded|occupation_Encoded|relationship_Encoded|race_Encoded|sex_Encoded|native_country_Encoded|income_Encoded|            features|       rawPrediction|         probability|prediction|\n",
            "+---+------+-------------+------------+------------+--------------+-----------------+-----------------+----------------------+------------------+--------------------+------------+-----------+----------------------+--------------+--------------------+--------------------+--------------------+----------+\n",
            "| 17| 19752|            7|           0|           0|            25|              0.0|              5.0|                   1.0|               5.0|                 2.0|         1.0|        1.0|                   0.0|           0.0|[17.0,19752.0,7.0...|[5.23340214706480...|[0.99469297204360...|       0.0|\n",
            "| 17| 27032|            6|           0|           0|            12|              0.0|              7.0|                   1.0|               4.0|                 2.0|         0.0|        1.0|                   0.0|           0.0|[17.0,27032.0,6.0...|[5.76722959672419...|[0.99688134395854...|       0.0|\n",
            "| 17| 27415|            7|           0|           0|            20|              0.0|              5.0|                   1.0|               8.0|                 2.0|         3.0|        0.0|                   0.0|           0.0|[17.0,27415.0,7.0...|[5.39390368361246...|[0.99547635678807...|       0.0|\n",
            "| 17| 29571|            8|           0|           0|            15|              0.0|             11.0|                   1.0|               8.0|                 2.0|         0.0|        0.0|                   0.0|           0.0|(14,[0,1,2,5,7,8,...|[4.86364797753816...|[0.99233691454409...|       0.0|\n",
            "| 17| 33138|            8|           0|           0|            40|              0.0|             11.0|                   1.0|               4.0|                 2.0|         0.0|        0.0|                   0.0|           0.0|(14,[0,1,2,5,7,8,...|[3.83216729895865...|[0.97879670350348...|       0.0|\n",
            "| 17| 46496|            7|           0|           0|             5|              0.0|              5.0|                   1.0|               5.0|                 2.0|         0.0|        0.0|                   0.0|           0.0|(14,[0,1,2,5,7,8,...|[5.21476789888554...|[0.99459369207978...|       0.0|\n",
            "| 17| 47199|            7|           0|           0|            24|              0.0|              5.0|                   1.0|              12.0|                 2.0|         0.0|        1.0|                   0.0|           0.0|[17.0,47199.0,7.0...|[5.54305983009759...|[0.99610073310420...|       0.0|\n",
            "| 17| 52967|            6|           0|           0|             6|              0.0|              7.0|                   1.0|               5.0|                 2.0|         0.0|        1.0|                   0.0|           0.0|[17.0,52967.0,6.0...|[6.00091139424925...|[0.99752962378673...|       0.0|\n",
            "| 17| 56986|            8|           0|           0|            18|              0.0|             11.0|                   1.0|               4.0|                 2.0|         0.0|        1.0|                   0.0|           0.0|[17.0,56986.0,8.0...|[4.97589362968196...|[0.99314496777868...|       0.0|\n",
            "| 17| 72321|            7|           0|           0|            12|              0.0|              5.0|                   1.0|               5.0|                 5.0|         0.0|        1.0|                   0.0|           0.0|[17.0,72321.0,7.0...|[5.29884078366032...|[0.99502746606032...|       0.0|\n",
            "| 17| 95799|            7|           0|           0|            18|              0.0|              5.0|                   1.0|               4.0|                 2.0|         0.0|        1.0|                   0.0|           0.0|[17.0,95799.0,7.0...|[5.19310234377837...|[0.99447593745111...|       0.0|\n",
            "| 17| 99175|            7|           0|           0|            20|              0.0|              5.0|                   1.0|               5.0|                 1.0|         0.0|        1.0|                   0.0|           0.0|[17.0,99175.0,7.0...|[5.24499011134371...|[0.99475379398281...|       0.0|\n",
            "| 17|102726|            8|           0|           0|            16|              0.0|             11.0|                   1.0|               5.0|                 2.0|         0.0|        0.0|                   0.0|           0.0|(14,[0,1,2,5,7,8,...|[4.59788783235933...|[0.99002736588988...|       0.0|\n",
            "| 17|108402|            6|           0|           0|            20|              0.0|              7.0|                   1.0|               4.0|                 2.0|         0.0|        1.0|                   0.0|           0.0|[17.0,108402.0,6....|[5.46905942693026...|[0.99580249829523...|       0.0|\n",
            "| 17|110723|            7|           0|           0|            25|              0.0|              5.0|                   1.0|               4.0|                 2.0|         0.0|        1.0|                   0.0|           0.0|[17.0,110723.0,7....|[4.96666394925043...|[0.99308184487792...|       0.0|\n",
            "| 17|112291|            7|           0|           0|            12|              0.0|              5.0|                   1.0|               8.0|                 2.0|         0.0|        0.0|                   0.0|           0.0|(14,[0,1,2,5,7,8,...|[5.14709808506260...|[0.99421737469546...|       0.0|\n",
            "| 17|114798|            6|           0|           0|            20|              0.0|              7.0|                   1.0|               5.0|                 2.0|         0.0|        1.0|                   0.0|           0.0|[17.0,114798.0,6....|[5.52844943954150...|[0.99604357213369...|       0.0|\n",
            "| 17|117549|            6|           0|           0|            12|              0.0|              7.0|                   1.0|               4.0|                 5.0|         1.0|        1.0|                   0.0|           0.0|[17.0,117549.0,6....|[5.70132281956638...|[0.99666958644261...|       0.0|\n",
            "| 17|121287|            5|           0|           0|            40|              0.0|             10.0|                   1.0|               1.0|                 2.0|         0.0|        0.0|                   0.0|           0.0|(14,[0,1,2,5,7,8,...|[4.53386299553613...|[0.98937499242824...|       0.0|\n",
            "| 17|121425|            7|           0|           0|            16|              0.0|              5.0|                   1.0|               3.0|                 2.0|         0.0|        1.0|                   0.0|           0.0|[17.0,121425.0,7....|[5.17618885708255...|[0.99438224103345...|       0.0|\n",
            "+---+------+-------------+------------+------------+--------------+-----------------+-----------------+----------------------+------------------+--------------------+------------+-----------+----------------------+--------------+--------------------+--------------------+--------------------+----------+\n",
            "only showing top 20 rows\n",
            "\n"
          ]
        }
      ],
      "source": [
        "y_pred.show()"
      ]
    },
    {
      "cell_type": "code",
      "execution_count": 28,
      "id": "629a549e",
      "metadata": {
        "colab": {
          "base_uri": "https://localhost:8080/"
        },
        "id": "629a549e",
        "outputId": "37713bac-cb30-491b-abc9-f62ef1b0f585"
      },
      "outputs": [
        {
          "output_type": "stream",
          "name": "stdout",
          "text": [
            "+--------------+----------+\n",
            "|income_Encoded|prediction|\n",
            "+--------------+----------+\n",
            "|           0.0|       0.0|\n",
            "|           0.0|       0.0|\n",
            "|           0.0|       0.0|\n",
            "|           0.0|       0.0|\n",
            "|           0.0|       0.0|\n",
            "|           0.0|       0.0|\n",
            "|           0.0|       0.0|\n",
            "|           0.0|       0.0|\n",
            "|           0.0|       0.0|\n",
            "|           0.0|       0.0|\n",
            "|           0.0|       0.0|\n",
            "|           0.0|       0.0|\n",
            "|           0.0|       0.0|\n",
            "|           0.0|       0.0|\n",
            "|           0.0|       0.0|\n",
            "|           0.0|       0.0|\n",
            "|           0.0|       0.0|\n",
            "|           0.0|       0.0|\n",
            "|           0.0|       0.0|\n",
            "|           0.0|       0.0|\n",
            "+--------------+----------+\n",
            "only showing top 20 rows\n",
            "\n"
          ]
        }
      ],
      "source": [
        "y_pred.select('income_Encoded', 'prediction').show()"
      ]
    },
    {
      "cell_type": "markdown",
      "id": "7e77d20c",
      "metadata": {
        "id": "7e77d20c"
      },
      "source": [
        "**Measuring the accuracy of the machine model**"
      ]
    },
    {
      "cell_type": "code",
      "execution_count": 29,
      "id": "c7b0914b",
      "metadata": {
        "colab": {
          "base_uri": "https://localhost:8080/"
        },
        "id": "c7b0914b",
        "outputId": "2ca2b8fb-a456-451b-9f8c-394bf63e7755"
      },
      "outputs": [
        {
          "output_type": "execute_result",
          "data": {
            "text/plain": [
              "0.8277786898703005"
            ]
          },
          "metadata": {},
          "execution_count": 29
        }
      ],
      "source": [
        "from pyspark.ml.evaluation import MulticlassClassificationEvaluator\n",
        "multi_evaluator = MulticlassClassificationEvaluator(labelCol='income_Encoded',metricName='accuracy')\n",
        "multi_evaluator.evaluate(y_pred)"
      ]
    },
    {
      "cell_type": "code",
      "execution_count": null,
      "id": "59bd09b9",
      "metadata": {
        "id": "59bd09b9"
      },
      "outputs": [],
      "source": []
    }
  ],
  "metadata": {
    "kernelspec": {
      "display_name": "Python 3",
      "language": "python",
      "name": "python3"
    },
    "language_info": {
      "codemirror_mode": {
        "name": "ipython",
        "version": 3
      },
      "file_extension": ".py",
      "mimetype": "text/x-python",
      "name": "python",
      "nbconvert_exporter": "python",
      "pygments_lexer": "ipython3",
      "version": "3.8.8"
    },
    "colab": {
      "provenance": []
    }
  },
  "nbformat": 4,
  "nbformat_minor": 5
}